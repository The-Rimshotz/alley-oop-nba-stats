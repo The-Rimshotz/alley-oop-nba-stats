{
 "cells": [
  {
   "cell_type": "code",
   "execution_count": 1,
   "metadata": {},
   "outputs": [],
   "source": [
    "import pandas as pd\n",
    "import numpy as np\n",
    "import os\n",
    "import pprint\n",
    "\n",
    "%matplotlib inline\n",
    "import matplotlib as plt\n",
    "import seaborn as sns\n",
    "\n",
    "import warnings\n",
    "warnings.filterwarnings(\"ignore\")\n",
    "\n",
    "import nba_acquire\n",
    "\n",
    "np.random.seed(123)"
   ]
  },
  {
   "cell_type": "code",
   "execution_count": 2,
   "metadata": {},
   "outputs": [
    {
     "data": {
      "text/plain": [
       "'0.25.3'"
      ]
     },
     "execution_count": 2,
     "metadata": {},
     "output_type": "execute_result"
    }
   ],
   "source": [
    "pd.__version__"
   ]
  },
  {
   "cell_type": "markdown",
   "metadata": {},
   "source": [
    "## 'player_data_df' work"
   ]
  },
  {
   "cell_type": "code",
   "execution_count": 3,
   "metadata": {},
   "outputs": [
    {
     "name": "stdout",
     "output_type": "stream",
     "text": [
      "Player Data Information\n",
      "Consisting of 4550 rows and 8 columns\n",
      "It has loads of data, but also has 341 missing values.\n"
     ]
    },
    {
     "data": {
      "text/html": [
       "<div>\n",
       "<style scoped>\n",
       "    .dataframe tbody tr th:only-of-type {\n",
       "        vertical-align: middle;\n",
       "    }\n",
       "\n",
       "    .dataframe tbody tr th {\n",
       "        vertical-align: top;\n",
       "    }\n",
       "\n",
       "    .dataframe thead th {\n",
       "        text-align: right;\n",
       "    }\n",
       "</style>\n",
       "<table border=\"1\" class=\"dataframe\">\n",
       "  <thead>\n",
       "    <tr style=\"text-align: right;\">\n",
       "      <th></th>\n",
       "      <th>name</th>\n",
       "      <th>year_start</th>\n",
       "      <th>year_end</th>\n",
       "      <th>position</th>\n",
       "      <th>height_inches</th>\n",
       "      <th>weight</th>\n",
       "      <th>birth_date</th>\n",
       "      <th>college</th>\n",
       "    </tr>\n",
       "  </thead>\n",
       "  <tbody>\n",
       "    <tr>\n",
       "      <th>0</th>\n",
       "      <td>Alaa Abdelnaby</td>\n",
       "      <td>1991</td>\n",
       "      <td>1995</td>\n",
       "      <td>F-C</td>\n",
       "      <td>82</td>\n",
       "      <td>240.0</td>\n",
       "      <td>June 24, 1968</td>\n",
       "      <td>Duke University</td>\n",
       "    </tr>\n",
       "    <tr>\n",
       "      <th>1</th>\n",
       "      <td>Zaid Abdul-Aziz</td>\n",
       "      <td>1969</td>\n",
       "      <td>1978</td>\n",
       "      <td>C-F</td>\n",
       "      <td>81</td>\n",
       "      <td>235.0</td>\n",
       "      <td>April 7, 1946</td>\n",
       "      <td>Iowa State University</td>\n",
       "    </tr>\n",
       "    <tr>\n",
       "      <th>2</th>\n",
       "      <td>Kareem Abdul-Jabbar</td>\n",
       "      <td>1970</td>\n",
       "      <td>1989</td>\n",
       "      <td>C</td>\n",
       "      <td>86</td>\n",
       "      <td>225.0</td>\n",
       "      <td>April 16, 1947</td>\n",
       "      <td>University of California, Los Angeles</td>\n",
       "    </tr>\n",
       "    <tr>\n",
       "      <th>3</th>\n",
       "      <td>Mahmoud Abdul-Rauf</td>\n",
       "      <td>1991</td>\n",
       "      <td>2001</td>\n",
       "      <td>G</td>\n",
       "      <td>73</td>\n",
       "      <td>162.0</td>\n",
       "      <td>March 9, 1969</td>\n",
       "      <td>Louisiana State University</td>\n",
       "    </tr>\n",
       "    <tr>\n",
       "      <th>4</th>\n",
       "      <td>Tariq Abdul-Wahad</td>\n",
       "      <td>1998</td>\n",
       "      <td>2003</td>\n",
       "      <td>F</td>\n",
       "      <td>78</td>\n",
       "      <td>223.0</td>\n",
       "      <td>November 3, 1974</td>\n",
       "      <td>San Jose State University</td>\n",
       "    </tr>\n",
       "  </tbody>\n",
       "</table>\n",
       "</div>"
      ],
      "text/plain": [
       "                  name  year_start  year_end position  height_inches  weight  \\\n",
       "0       Alaa Abdelnaby        1991      1995      F-C             82   240.0   \n",
       "1      Zaid Abdul-Aziz        1969      1978      C-F             81   235.0   \n",
       "2  Kareem Abdul-Jabbar        1970      1989        C             86   225.0   \n",
       "3   Mahmoud Abdul-Rauf        1991      2001        G             73   162.0   \n",
       "4    Tariq Abdul-Wahad        1998      2003        F             78   223.0   \n",
       "\n",
       "         birth_date                                college  \n",
       "0     June 24, 1968                        Duke University  \n",
       "1     April 7, 1946                  Iowa State University  \n",
       "2    April 16, 1947  University of California, Los Angeles  \n",
       "3     March 9, 1969             Louisiana State University  \n",
       "4  November 3, 1974              San Jose State University  "
      ]
     },
     "execution_count": 3,
     "metadata": {},
     "output_type": "execute_result"
    }
   ],
   "source": [
    "player_data_df = nba_acquire.player_data()\n",
    "\n",
    "player_data_df.head()"
   ]
  },
  {
   "cell_type": "code",
   "execution_count": 4,
   "metadata": {},
   "outputs": [
    {
     "name": "stdout",
     "output_type": "stream",
     "text": [
      "<class 'pandas.core.frame.DataFrame'>\n",
      "RangeIndex: 4550 entries, 0 to 4549\n",
      "Data columns (total 8 columns):\n",
      "name             4550 non-null object\n",
      "year_start       4550 non-null int64\n",
      "year_end         4550 non-null int64\n",
      "position         4550 non-null object\n",
      "height_inches    4550 non-null int64\n",
      "weight           4550 non-null float64\n",
      "birth_date       4550 non-null object\n",
      "college          4550 non-null object\n",
      "dtypes: float64(1), int64(3), object(4)\n",
      "memory usage: 284.5+ KB\n"
     ]
    }
   ],
   "source": [
    "player_data_df.info()"
   ]
  },
  {
   "cell_type": "code",
   "execution_count": 5,
   "metadata": {},
   "outputs": [
    {
     "data": {
      "text/plain": [
       "array([False, False, False, False, False, False, False, False])"
      ]
     },
     "execution_count": 5,
     "metadata": {},
     "output_type": "execute_result"
    }
   ],
   "source": [
    "# because of merge later, we need to verify no columns are dupes\n",
    "player_data_df.columns.duplicated()"
   ]
  },
  {
   "cell_type": "code",
   "execution_count": 6,
   "metadata": {},
   "outputs": [],
   "source": [
    "# change 'name' column to 'player' column so we can merge later\n",
    "player_data_df = player_data_df.rename(columns={\"name\" : \"player\"})"
   ]
  },
  {
   "cell_type": "code",
   "execution_count": 7,
   "metadata": {},
   "outputs": [
    {
     "data": {
      "text/plain": [
       "4550"
      ]
     },
     "execution_count": 7,
     "metadata": {},
     "output_type": "execute_result"
    }
   ],
   "source": [
    "# Seeing if there are any duplicate players in the 4,550 listed\n",
    "player_data_df.index.nunique()"
   ]
  },
  {
   "cell_type": "code",
   "execution_count": 8,
   "metadata": {},
   "outputs": [
    {
     "data": {
      "text/plain": [
       "4500"
      ]
     },
     "execution_count": 8,
     "metadata": {},
     "output_type": "execute_result"
    }
   ],
   "source": [
    "player_data_df.player.nunique()"
   ]
  },
  {
   "cell_type": "markdown",
   "metadata": {},
   "source": [
    "**4,550 rows of data, but 4,500 unique names.  Could be repeats - let's check to see what these duplicate player names look like:**"
   ]
  },
  {
   "cell_type": "code",
   "execution_count": 9,
   "metadata": {},
   "outputs": [
    {
     "data": {
      "text/html": [
       "<div>\n",
       "<style scoped>\n",
       "    .dataframe tbody tr th:only-of-type {\n",
       "        vertical-align: middle;\n",
       "    }\n",
       "\n",
       "    .dataframe tbody tr th {\n",
       "        vertical-align: top;\n",
       "    }\n",
       "\n",
       "    .dataframe thead th {\n",
       "        text-align: right;\n",
       "    }\n",
       "</style>\n",
       "<table border=\"1\" class=\"dataframe\">\n",
       "  <thead>\n",
       "    <tr style=\"text-align: right;\">\n",
       "      <th></th>\n",
       "      <th>player</th>\n",
       "      <th>year_start</th>\n",
       "      <th>year_end</th>\n",
       "      <th>position</th>\n",
       "      <th>height_inches</th>\n",
       "      <th>weight</th>\n",
       "      <th>birth_date</th>\n",
       "      <th>college</th>\n",
       "    </tr>\n",
       "  </thead>\n",
       "  <tbody>\n",
       "    <tr>\n",
       "      <th>423</th>\n",
       "      <td>Bill Bradley</td>\n",
       "      <td>1968</td>\n",
       "      <td>1968</td>\n",
       "      <td>G</td>\n",
       "      <td>71</td>\n",
       "      <td>165.0</td>\n",
       "      <td>June 16, 1941</td>\n",
       "      <td>No college listed</td>\n",
       "    </tr>\n",
       "    <tr>\n",
       "      <th>424</th>\n",
       "      <td>Bill Bradley</td>\n",
       "      <td>1968</td>\n",
       "      <td>1977</td>\n",
       "      <td>F-G</td>\n",
       "      <td>77</td>\n",
       "      <td>205.0</td>\n",
       "      <td>July 28, 1943</td>\n",
       "      <td>Princeton University</td>\n",
       "    </tr>\n",
       "    <tr>\n",
       "      <th>1069</th>\n",
       "      <td>Bob Duffy</td>\n",
       "      <td>1963</td>\n",
       "      <td>1965</td>\n",
       "      <td>G</td>\n",
       "      <td>75</td>\n",
       "      <td>185.0</td>\n",
       "      <td>September 26, 1940</td>\n",
       "      <td>Colgate University</td>\n",
       "    </tr>\n",
       "    <tr>\n",
       "      <th>1068</th>\n",
       "      <td>Bob Duffy</td>\n",
       "      <td>1947</td>\n",
       "      <td>1947</td>\n",
       "      <td>F</td>\n",
       "      <td>76</td>\n",
       "      <td>175.0</td>\n",
       "      <td>July 5, 1922</td>\n",
       "      <td>Tulane University</td>\n",
       "    </tr>\n",
       "    <tr>\n",
       "      <th>2062</th>\n",
       "      <td>Bobby Jones</td>\n",
       "      <td>1975</td>\n",
       "      <td>1986</td>\n",
       "      <td>F</td>\n",
       "      <td>81</td>\n",
       "      <td>210.0</td>\n",
       "      <td>December 18, 1951</td>\n",
       "      <td>University of North Carolina</td>\n",
       "    </tr>\n",
       "    <tr>\n",
       "      <th>...</th>\n",
       "      <td>...</td>\n",
       "      <td>...</td>\n",
       "      <td>...</td>\n",
       "      <td>...</td>\n",
       "      <td>...</td>\n",
       "      <td>...</td>\n",
       "      <td>...</td>\n",
       "      <td>...</td>\n",
       "    </tr>\n",
       "    <tr>\n",
       "      <th>1938</th>\n",
       "      <td>Tony Jackson</td>\n",
       "      <td>1981</td>\n",
       "      <td>1981</td>\n",
       "      <td>G</td>\n",
       "      <td>72</td>\n",
       "      <td>170.0</td>\n",
       "      <td>January 17, 1958</td>\n",
       "      <td>Florida State University</td>\n",
       "    </tr>\n",
       "    <tr>\n",
       "      <th>2786</th>\n",
       "      <td>Tony Mitchell</td>\n",
       "      <td>2014</td>\n",
       "      <td>2014</td>\n",
       "      <td>F</td>\n",
       "      <td>78</td>\n",
       "      <td>216.0</td>\n",
       "      <td>August 7, 1989</td>\n",
       "      <td>University of Alabama</td>\n",
       "    </tr>\n",
       "    <tr>\n",
       "      <th>2787</th>\n",
       "      <td>Tony Mitchell</td>\n",
       "      <td>2014</td>\n",
       "      <td>2014</td>\n",
       "      <td>F</td>\n",
       "      <td>80</td>\n",
       "      <td>235.0</td>\n",
       "      <td>April 7, 1992</td>\n",
       "      <td>University of North Texas</td>\n",
       "    </tr>\n",
       "    <tr>\n",
       "      <th>3522</th>\n",
       "      <td>Walker Russell</td>\n",
       "      <td>2012</td>\n",
       "      <td>2012</td>\n",
       "      <td>G</td>\n",
       "      <td>72</td>\n",
       "      <td>170.0</td>\n",
       "      <td>October 6, 1982</td>\n",
       "      <td>Jacksonville State University</td>\n",
       "    </tr>\n",
       "    <tr>\n",
       "      <th>3521</th>\n",
       "      <td>Walker Russell</td>\n",
       "      <td>1983</td>\n",
       "      <td>1988</td>\n",
       "      <td>G</td>\n",
       "      <td>77</td>\n",
       "      <td>195.0</td>\n",
       "      <td>October 26, 1960</td>\n",
       "      <td>Western Michigan University</td>\n",
       "    </tr>\n",
       "  </tbody>\n",
       "</table>\n",
       "<p>97 rows × 8 columns</p>\n",
       "</div>"
      ],
      "text/plain": [
       "              player  year_start  year_end position  height_inches  weight  \\\n",
       "423     Bill Bradley        1968      1968        G             71   165.0   \n",
       "424     Bill Bradley        1968      1977      F-G             77   205.0   \n",
       "1069       Bob Duffy        1963      1965        G             75   185.0   \n",
       "1068       Bob Duffy        1947      1947        F             76   175.0   \n",
       "2062     Bobby Jones        1975      1986        F             81   210.0   \n",
       "...              ...         ...       ...      ...            ...     ...   \n",
       "1938    Tony Jackson        1981      1981        G             72   170.0   \n",
       "2786   Tony Mitchell        2014      2014        F             78   216.0   \n",
       "2787   Tony Mitchell        2014      2014        F             80   235.0   \n",
       "3522  Walker Russell        2012      2012        G             72   170.0   \n",
       "3521  Walker Russell        1983      1988        G             77   195.0   \n",
       "\n",
       "              birth_date                        college  \n",
       "423        June 16, 1941              No college listed  \n",
       "424        July 28, 1943           Princeton University  \n",
       "1069  September 26, 1940             Colgate University  \n",
       "1068        July 5, 1922              Tulane University  \n",
       "2062   December 18, 1951   University of North Carolina  \n",
       "...                  ...                            ...  \n",
       "1938    January 17, 1958       Florida State University  \n",
       "2786      August 7, 1989          University of Alabama  \n",
       "2787       April 7, 1992      University of North Texas  \n",
       "3522     October 6, 1982  Jacksonville State University  \n",
       "3521    October 26, 1960    Western Michigan University  \n",
       "\n",
       "[97 rows x 8 columns]"
      ]
     },
     "execution_count": 9,
     "metadata": {},
     "output_type": "execute_result"
    }
   ],
   "source": [
    "# assign the column data to a variable\n",
    "names = player_data_df[\"player\"]\n",
    "\n",
    "# checks to see if a name is duplicated in the player column, \n",
    "# then sorts_values on \"player\"\n",
    "player_data_df[names.isin(names[names.duplicated()])].sort_values(\"player\")"
   ]
  },
  {
   "cell_type": "code",
   "execution_count": 10,
   "metadata": {},
   "outputs": [
    {
     "data": {
      "text/plain": [
       "Charles Jones      3\n",
       "George Johnson     3\n",
       "Charles Smith      3\n",
       "Bobby Wilson       2\n",
       "Walker Russell     2\n",
       "                  ..\n",
       "Andre Wakefield    1\n",
       "Joe Roberts        1\n",
       "Joe Smyth          1\n",
       "Dean Tolson        1\n",
       "Brad Branson       1\n",
       "Name: player, Length: 4500, dtype: int64"
      ]
     },
     "execution_count": 10,
     "metadata": {},
     "output_type": "execute_result"
    }
   ],
   "source": [
    "names.value_counts()"
   ]
  },
  {
   "cell_type": "markdown",
   "metadata": {},
   "source": [
    "Looks like the reason there are only 4,500 unique player names in the 4,550 rows of data is because there are 50 instances of duplicated names (from above, there are three players named **'George Johnson,'** three named **'Charles Jones,'** etc).  Thanks to the other data in the DataFrame, we can determine the details of each player as we do analysis."
   ]
  },
  {
   "cell_type": "markdown",
   "metadata": {},
   "source": [
    "Bill Russell, Dr. J, Kareem Abdul-Jabbar... all these guys dominated the league in their prime.  But it DOES seem like the players today are taller and heavier than they used to be.  Let's take a look at how the sizes of the players have changed over the years."
   ]
  },
  {
   "cell_type": "code",
   "execution_count": 11,
   "metadata": {},
   "outputs": [
    {
     "data": {
      "text/plain": [
       "<matplotlib.axes._subplots.AxesSubplot at 0x7fee193c1690>"
      ]
     },
     "execution_count": 11,
     "metadata": {},
     "output_type": "execute_result"
    },
    {
     "data": {
      "image/png": "[encoded data removed]",
      "text/plain": [
       "<Figure size 432x288 with 1 Axes>"
      ]
     },
     "metadata": {
      "needs_background": "light"
     },
     "output_type": "display_data"
    }
   ],
   "source": [
    "# height_inches over the years\n",
    "\n",
    "player_data_df.plot(x=\"year_start\", y=[\"height_inches\"])\n",
    "\n",
    "# choosing 'year_start' because it's a more accurate representation of the league heights \n",
    "# the year the player entered the league"
   ]
  },
  {
   "cell_type": "markdown",
   "metadata": {},
   "source": [
    "Ugh.  Clearly there's a correlation here - the players ARE getting taller over time, but let's clean this up a bit."
   ]
  },
  {
   "cell_type": "code",
   "execution_count": 12,
   "metadata": {},
   "outputs": [
    {
     "data": {
      "text/plain": [
       "year_start\n",
       "1947    74.322981\n",
       "1948    74.325000\n",
       "1949    75.244681\n",
       "1950    75.116667\n",
       "1951    76.400000\n",
       "Name: height_inches, dtype: float64"
      ]
     },
     "execution_count": 12,
     "metadata": {},
     "output_type": "execute_result"
    }
   ],
   "source": [
    "# group mean heights by year_start and then assign to a plotting variable\n",
    "height_plot_df = player_data_df.groupby(\"year_start\")[\"height_inches\"].mean() \n",
    "\n",
    "height_plot_df.head()"
   ]
  },
  {
   "cell_type": "code",
   "execution_count": 13,
   "metadata": {},
   "outputs": [
    {
     "data": {
      "text/plain": [
       "<matplotlib.axes._subplots.AxesSubplot at 0x7fee19595c50>"
      ]
     },
     "execution_count": 13,
     "metadata": {},
     "output_type": "execute_result"
    },
    {
     "data": {
      "image/png": "[encoded data removed]",
      "text/plain": [
       "<Figure size 432x288 with 1 Axes>"
      ]
     },
     "metadata": {
      "needs_background": "light"
     },
     "output_type": "display_data"
    }
   ],
   "source": [
    "height_plot_df.plot(x=\"year_end\", kind = \"line\")"
   ]
  },
  {
   "cell_type": "code",
   "execution_count": 14,
   "metadata": {},
   "outputs": [
    {
     "data": {
      "text/plain": [
       "year_start\n",
       "1947    188.633540\n",
       "1948    184.450000\n",
       "1949    192.851064\n",
       "1950    190.100000\n",
       "1951    196.233333\n",
       "Name: weight, dtype: float64"
      ]
     },
     "execution_count": 14,
     "metadata": {},
     "output_type": "execute_result"
    }
   ],
   "source": [
    "# group mean weights by year_start and then assign to a plotting variable\n",
    "weight_plot_df = player_data_df.groupby(\"year_start\")[\"weight\"].mean() \n",
    "\n",
    "weight_plot_df.head()"
   ]
  },
  {
   "cell_type": "code",
   "execution_count": 15,
   "metadata": {},
   "outputs": [
    {
     "data": {
      "text/plain": [
       "<matplotlib.axes._subplots.AxesSubplot at 0x7fee15343490>"
      ]
     },
     "execution_count": 15,
     "metadata": {},
     "output_type": "execute_result"
    },
    {
     "data": {
      "image/png": "[encoded data removed]",
      "text/plain": [
       "<Figure size 432x288 with 1 Axes>"
      ]
     },
     "metadata": {
      "needs_background": "light"
     },
     "output_type": "display_data"
    }
   ],
   "source": [
    "weight_plot_df.plot(x=\"year_start\", kind = \"line\")"
   ]
  },
  {
   "cell_type": "markdown",
   "metadata": {},
   "source": [
    "Taking a look at the heights and weights of the aforementioned players (Bill Russell, Dr. J, Kareem) and how they compare to the averages of the rest of the league at their respective positions:\n",
    "\n",
    "- get the player data by the index (make sure I spell the names right...)\n",
    "\n",
    "- average the heights and weights of year_start and year_end (their career length) at their positions"
   ]
  },
  {
   "cell_type": "code",
   "execution_count": 16,
   "metadata": {},
   "outputs": [
    {
     "data": {
      "text/html": [
       "<div>\n",
       "<style scoped>\n",
       "    .dataframe tbody tr th:only-of-type {\n",
       "        vertical-align: middle;\n",
       "    }\n",
       "\n",
       "    .dataframe tbody tr th {\n",
       "        vertical-align: top;\n",
       "    }\n",
       "\n",
       "    .dataframe thead th {\n",
       "        text-align: right;\n",
       "    }\n",
       "</style>\n",
       "<table border=\"1\" class=\"dataframe\">\n",
       "  <thead>\n",
       "    <tr style=\"text-align: right;\">\n",
       "      <th></th>\n",
       "      <th>player</th>\n",
       "      <th>year_start</th>\n",
       "      <th>year_end</th>\n",
       "      <th>position</th>\n",
       "      <th>height_inches</th>\n",
       "      <th>weight</th>\n",
       "      <th>birth_date</th>\n",
       "      <th>college</th>\n",
       "    </tr>\n",
       "  </thead>\n",
       "  <tbody>\n",
       "    <tr>\n",
       "      <th>3513</th>\n",
       "      <td>Bill Russell</td>\n",
       "      <td>1957</td>\n",
       "      <td>1969</td>\n",
       "      <td>C</td>\n",
       "      <td>82</td>\n",
       "      <td>215.0</td>\n",
       "      <td>February 12, 1934</td>\n",
       "      <td>University of San Francisco</td>\n",
       "    </tr>\n",
       "  </tbody>\n",
       "</table>\n",
       "</div>"
      ],
      "text/plain": [
       "            player  year_start  year_end position  height_inches  weight  \\\n",
       "3513  Bill Russell        1957      1969        C             82   215.0   \n",
       "\n",
       "             birth_date                      college  \n",
       "3513  February 12, 1934  University of San Francisco  "
      ]
     },
     "execution_count": 16,
     "metadata": {},
     "output_type": "execute_result"
    }
   ],
   "source": [
    "# get the player index of Bill Russell\n",
    "player_data_df.loc[player_data_df[\"player\"] == \"Bill Russell\"]"
   ]
  },
  {
   "cell_type": "code",
   "execution_count": 17,
   "metadata": {},
   "outputs": [
    {
     "data": {
      "text/html": [
       "<div>\n",
       "<style scoped>\n",
       "    .dataframe tbody tr th:only-of-type {\n",
       "        vertical-align: middle;\n",
       "    }\n",
       "\n",
       "    .dataframe tbody tr th {\n",
       "        vertical-align: top;\n",
       "    }\n",
       "\n",
       "    .dataframe thead th {\n",
       "        text-align: right;\n",
       "    }\n",
       "</style>\n",
       "<table border=\"1\" class=\"dataframe\">\n",
       "  <thead>\n",
       "    <tr style=\"text-align: right;\">\n",
       "      <th></th>\n",
       "      <th>player</th>\n",
       "      <th>year_start</th>\n",
       "      <th>year_end</th>\n",
       "      <th>position</th>\n",
       "      <th>height_inches</th>\n",
       "      <th>weight</th>\n",
       "      <th>birth_date</th>\n",
       "      <th>college</th>\n",
       "    </tr>\n",
       "  </thead>\n",
       "  <tbody>\n",
       "    <tr>\n",
       "      <th>37</th>\n",
       "      <td>Gary Alcorn</td>\n",
       "      <td>1960</td>\n",
       "      <td>1961</td>\n",
       "      <td>C</td>\n",
       "      <td>81</td>\n",
       "      <td>225.0</td>\n",
       "      <td>October 8, 1936</td>\n",
       "      <td>California State University, Fresno</td>\n",
       "    </tr>\n",
       "    <tr>\n",
       "      <th>79</th>\n",
       "      <td>Dan Anderson</td>\n",
       "      <td>1968</td>\n",
       "      <td>1969</td>\n",
       "      <td>C</td>\n",
       "      <td>82</td>\n",
       "      <td>230.0</td>\n",
       "      <td>February 15, 1943</td>\n",
       "      <td>Augsburg College</td>\n",
       "    </tr>\n",
       "    <tr>\n",
       "      <th>253</th>\n",
       "      <td>Al Beard</td>\n",
       "      <td>1968</td>\n",
       "      <td>1968</td>\n",
       "      <td>C</td>\n",
       "      <td>81</td>\n",
       "      <td>200.0</td>\n",
       "      <td>April 27, 1942</td>\n",
       "      <td>Norfolk State University</td>\n",
       "    </tr>\n",
       "    <tr>\n",
       "      <th>261</th>\n",
       "      <td>Zelmo Beaty</td>\n",
       "      <td>1963</td>\n",
       "      <td>1975</td>\n",
       "      <td>C</td>\n",
       "      <td>81</td>\n",
       "      <td>225.0</td>\n",
       "      <td>October 25, 1939</td>\n",
       "      <td>Prairie View A&amp;M University</td>\n",
       "    </tr>\n",
       "    <tr>\n",
       "      <th>280</th>\n",
       "      <td>Walt Bellamy</td>\n",
       "      <td>1962</td>\n",
       "      <td>1975</td>\n",
       "      <td>C</td>\n",
       "      <td>83</td>\n",
       "      <td>225.0</td>\n",
       "      <td>July 24, 1939</td>\n",
       "      <td>Indiana University</td>\n",
       "    </tr>\n",
       "  </tbody>\n",
       "</table>\n",
       "</div>"
      ],
      "text/plain": [
       "           player  year_start  year_end position  height_inches  weight  \\\n",
       "37    Gary Alcorn        1960      1961        C             81   225.0   \n",
       "79   Dan Anderson        1968      1969        C             82   230.0   \n",
       "253      Al Beard        1968      1968        C             81   200.0   \n",
       "261   Zelmo Beaty        1963      1975        C             81   225.0   \n",
       "280  Walt Bellamy        1962      1975        C             83   225.0   \n",
       "\n",
       "            birth_date                              college  \n",
       "37     October 8, 1936  California State University, Fresno  \n",
       "79   February 15, 1943                     Augsburg College  \n",
       "253     April 27, 1942             Norfolk State University  \n",
       "261   October 25, 1939          Prairie View A&M University  \n",
       "280      July 24, 1939                   Indiana University  "
      ]
     },
     "execution_count": 17,
     "metadata": {},
     "output_type": "execute_result"
    }
   ],
   "source": [
    "# take a look at all the Centers during the span of the Bill Russell era\n",
    "\n",
    "all_centers = player_data_df[player_data_df[\"position\"] == \"C\"]\n",
    "\n",
    "centers_during_russell_era = all_centers.query(\"1957 <= year_start < 1969\")\n",
    "\n",
    "centers_during_russell_era.head()"
   ]
  },
  {
   "cell_type": "code",
   "execution_count": 18,
   "metadata": {},
   "outputs": [
    {
     "data": {
      "text/plain": [
       "82.05128205128206"
      ]
     },
     "execution_count": 18,
     "metadata": {},
     "output_type": "execute_result"
    }
   ],
   "source": [
    "# average height (in inches) of Centers during Bill Russell era\n",
    "\n",
    "centers_during_russell_era[\"height_inches\"].mean()"
   ]
  },
  {
   "cell_type": "code",
   "execution_count": 19,
   "metadata": {},
   "outputs": [
    {
     "data": {
      "text/plain": [
       "228.10256410256412"
      ]
     },
     "execution_count": 19,
     "metadata": {},
     "output_type": "execute_result"
    }
   ],
   "source": [
    "# average weight (in pounds) of Centers during Bill Russell era\n",
    "\n",
    "centers_during_russell_era[\"weight\"].mean()"
   ]
  },
  {
   "cell_type": "markdown",
   "metadata": {},
   "source": [
    "**So it looks like Bill Russell was:**\n",
    "\n",
    "- just average (in fact, .05\" *under* average) height in his career; and\n",
    "\n",
    "- under the average weight for centers during his career by about 13 pounds"
   ]
  },
  {
   "cell_type": "markdown",
   "metadata": {},
   "source": [
    "**Now to check the second player in our list of 3, Dr. J (\"Julius Erving\")**"
   ]
  },
  {
   "cell_type": "code",
   "execution_count": 20,
   "metadata": {},
   "outputs": [
    {
     "data": {
      "text/html": [
       "<div>\n",
       "<style scoped>\n",
       "    .dataframe tbody tr th:only-of-type {\n",
       "        vertical-align: middle;\n",
       "    }\n",
       "\n",
       "    .dataframe tbody tr th {\n",
       "        vertical-align: top;\n",
       "    }\n",
       "\n",
       "    .dataframe thead th {\n",
       "        text-align: right;\n",
       "    }\n",
       "</style>\n",
       "<table border=\"1\" class=\"dataframe\">\n",
       "  <thead>\n",
       "    <tr style=\"text-align: right;\">\n",
       "      <th></th>\n",
       "      <th>player</th>\n",
       "      <th>year_start</th>\n",
       "      <th>year_end</th>\n",
       "      <th>position</th>\n",
       "      <th>height_inches</th>\n",
       "      <th>weight</th>\n",
       "      <th>birth_date</th>\n",
       "      <th>college</th>\n",
       "    </tr>\n",
       "  </thead>\n",
       "  <tbody>\n",
       "    <tr>\n",
       "      <th>1175</th>\n",
       "      <td>Julius Erving</td>\n",
       "      <td>1972</td>\n",
       "      <td>1987</td>\n",
       "      <td>F-G</td>\n",
       "      <td>79</td>\n",
       "      <td>210.0</td>\n",
       "      <td>February 22, 1950</td>\n",
       "      <td>University of Massachusetts Amherst</td>\n",
       "    </tr>\n",
       "  </tbody>\n",
       "</table>\n",
       "</div>"
      ],
      "text/plain": [
       "             player  year_start  year_end position  height_inches  weight  \\\n",
       "1175  Julius Erving        1972      1987      F-G             79   210.0   \n",
       "\n",
       "             birth_date                              college  \n",
       "1175  February 22, 1950  University of Massachusetts Amherst  "
      ]
     },
     "execution_count": 20,
     "metadata": {},
     "output_type": "execute_result"
    }
   ],
   "source": [
    "# get the player index of Julius Erving\n",
    "player_data_df.loc[player_data_df[\"player\"] == \"Julius Erving\"]"
   ]
  },
  {
   "cell_type": "code",
   "execution_count": 21,
   "metadata": {},
   "outputs": [
    {
     "data": {
      "text/html": [
       "<div>\n",
       "<style scoped>\n",
       "    .dataframe tbody tr th:only-of-type {\n",
       "        vertical-align: middle;\n",
       "    }\n",
       "\n",
       "    .dataframe tbody tr th {\n",
       "        vertical-align: top;\n",
       "    }\n",
       "\n",
       "    .dataframe thead th {\n",
       "        text-align: right;\n",
       "    }\n",
       "</style>\n",
       "<table border=\"1\" class=\"dataframe\">\n",
       "  <thead>\n",
       "    <tr style=\"text-align: right;\">\n",
       "      <th></th>\n",
       "      <th>player</th>\n",
       "      <th>year_start</th>\n",
       "      <th>year_end</th>\n",
       "      <th>position</th>\n",
       "      <th>height_inches</th>\n",
       "      <th>weight</th>\n",
       "      <th>birth_date</th>\n",
       "      <th>college</th>\n",
       "    </tr>\n",
       "  </thead>\n",
       "  <tbody>\n",
       "    <tr>\n",
       "      <th>17</th>\n",
       "      <td>George Adams</td>\n",
       "      <td>1973</td>\n",
       "      <td>1975</td>\n",
       "      <td>F-G</td>\n",
       "      <td>77</td>\n",
       "      <td>210.0</td>\n",
       "      <td>May 15, 1949</td>\n",
       "      <td>Gardner-Webb University</td>\n",
       "    </tr>\n",
       "    <tr>\n",
       "      <th>28</th>\n",
       "      <td>Mark Aguirre</td>\n",
       "      <td>1982</td>\n",
       "      <td>1994</td>\n",
       "      <td>F-G</td>\n",
       "      <td>78</td>\n",
       "      <td>232.0</td>\n",
       "      <td>December 10, 1959</td>\n",
       "      <td>DePaul University</td>\n",
       "    </tr>\n",
       "    <tr>\n",
       "      <th>95</th>\n",
       "      <td>Ron Anderson</td>\n",
       "      <td>1985</td>\n",
       "      <td>1994</td>\n",
       "      <td>F-G</td>\n",
       "      <td>79</td>\n",
       "      <td>215.0</td>\n",
       "      <td>October 15, 1958</td>\n",
       "      <td>California State University, Fresno</td>\n",
       "    </tr>\n",
       "    <tr>\n",
       "      <th>185</th>\n",
       "      <td>Gene Banks</td>\n",
       "      <td>1982</td>\n",
       "      <td>1987</td>\n",
       "      <td>F-G</td>\n",
       "      <td>79</td>\n",
       "      <td>215.0</td>\n",
       "      <td>May 15, 1959</td>\n",
       "      <td>Duke University</td>\n",
       "    </tr>\n",
       "    <tr>\n",
       "      <th>318</th>\n",
       "      <td>Bob Bigelow</td>\n",
       "      <td>1976</td>\n",
       "      <td>1979</td>\n",
       "      <td>F-G</td>\n",
       "      <td>79</td>\n",
       "      <td>215.0</td>\n",
       "      <td>December 26, 1953</td>\n",
       "      <td>University of Pennsylvania</td>\n",
       "    </tr>\n",
       "  </tbody>\n",
       "</table>\n",
       "</div>"
      ],
      "text/plain": [
       "           player  year_start  year_end position  height_inches  weight  \\\n",
       "17   George Adams        1973      1975      F-G             77   210.0   \n",
       "28   Mark Aguirre        1982      1994      F-G             78   232.0   \n",
       "95   Ron Anderson        1985      1994      F-G             79   215.0   \n",
       "185    Gene Banks        1982      1987      F-G             79   215.0   \n",
       "318   Bob Bigelow        1976      1979      F-G             79   215.0   \n",
       "\n",
       "            birth_date                              college  \n",
       "17        May 15, 1949              Gardner-Webb University  \n",
       "28   December 10, 1959                    DePaul University  \n",
       "95    October 15, 1958  California State University, Fresno  \n",
       "185       May 15, 1959                      Duke University  \n",
       "318  December 26, 1953           University of Pennsylvania  "
      ]
     },
     "execution_count": 21,
     "metadata": {},
     "output_type": "execute_result"
    }
   ],
   "source": [
    "# take a look at all the Forwards / Guards (F-G) during the span of the Dr. J era\n",
    "\n",
    "all_fgs = player_data_df[player_data_df[\"position\"] == \"F-G\"]\n",
    "\n",
    "fgs_during_docj_era = all_fgs.query(\"1972 <= year_start < 1987\")\n",
    "\n",
    "fgs_during_docj_era.head()"
   ]
  },
  {
   "cell_type": "code",
   "execution_count": 22,
   "metadata": {},
   "outputs": [
    {
     "data": {
      "text/plain": [
       "78.2258064516129"
      ]
     },
     "execution_count": 22,
     "metadata": {},
     "output_type": "execute_result"
    }
   ],
   "source": [
    "# average height (in inches) of F-Gs during Doctor J era\n",
    "\n",
    "fgs_during_docj_era[\"height_inches\"].mean()"
   ]
  },
  {
   "cell_type": "code",
   "execution_count": 23,
   "metadata": {},
   "outputs": [
    {
     "data": {
      "text/plain": [
       "204.80645161290323"
      ]
     },
     "execution_count": 23,
     "metadata": {},
     "output_type": "execute_result"
    }
   ],
   "source": [
    "# average weight (in pounds) of F-Gs during Doctor J era\n",
    "\n",
    "fgs_during_docj_era[\"weight\"].mean()"
   ]
  },
  {
   "cell_type": "markdown",
   "metadata": {},
   "source": [
    "**So it looks like Dr. J was:**\n",
    "\n",
    "- taller than the average F/G during his career by over three-quarters of an inch (~.78\"); and\n",
    "\n",
    "- roughly five (5) pounds heavier during than all the average F/G during his career (~5.2lbs)\n",
    "    "
   ]
  },
  {
   "cell_type": "markdown",
   "metadata": {},
   "source": [
    "**Finally, we look at Kareem Abdul-Jabbar, the last in our list**"
   ]
  },
  {
   "cell_type": "code",
   "execution_count": 24,
   "metadata": {},
   "outputs": [
    {
     "data": {
      "text/html": [
       "<div>\n",
       "<style scoped>\n",
       "    .dataframe tbody tr th:only-of-type {\n",
       "        vertical-align: middle;\n",
       "    }\n",
       "\n",
       "    .dataframe tbody tr th {\n",
       "        vertical-align: top;\n",
       "    }\n",
       "\n",
       "    .dataframe thead th {\n",
       "        text-align: right;\n",
       "    }\n",
       "</style>\n",
       "<table border=\"1\" class=\"dataframe\">\n",
       "  <thead>\n",
       "    <tr style=\"text-align: right;\">\n",
       "      <th></th>\n",
       "      <th>player</th>\n",
       "      <th>year_start</th>\n",
       "      <th>year_end</th>\n",
       "      <th>position</th>\n",
       "      <th>height_inches</th>\n",
       "      <th>weight</th>\n",
       "      <th>birth_date</th>\n",
       "      <th>college</th>\n",
       "    </tr>\n",
       "  </thead>\n",
       "  <tbody>\n",
       "    <tr>\n",
       "      <th>2</th>\n",
       "      <td>Kareem Abdul-Jabbar</td>\n",
       "      <td>1970</td>\n",
       "      <td>1989</td>\n",
       "      <td>C</td>\n",
       "      <td>86</td>\n",
       "      <td>225.0</td>\n",
       "      <td>April 16, 1947</td>\n",
       "      <td>University of California, Los Angeles</td>\n",
       "    </tr>\n",
       "  </tbody>\n",
       "</table>\n",
       "</div>"
      ],
      "text/plain": [
       "                player  year_start  year_end position  height_inches  weight  \\\n",
       "2  Kareem Abdul-Jabbar        1970      1989        C             86   225.0   \n",
       "\n",
       "       birth_date                                college  \n",
       "2  April 16, 1947  University of California, Los Angeles  "
      ]
     },
     "execution_count": 24,
     "metadata": {},
     "output_type": "execute_result"
    }
   ],
   "source": [
    "# get the player index of Kareem / Lou Alcindor\n",
    "player_data_df.loc[player_data_df[\"player\"] == \"Kareem Abdul-Jabbar\"]"
   ]
  },
  {
   "cell_type": "code",
   "execution_count": 25,
   "metadata": {},
   "outputs": [
    {
     "data": {
      "text/html": [
       "<div>\n",
       "<style scoped>\n",
       "    .dataframe tbody tr th:only-of-type {\n",
       "        vertical-align: middle;\n",
       "    }\n",
       "\n",
       "    .dataframe tbody tr th {\n",
       "        vertical-align: top;\n",
       "    }\n",
       "\n",
       "    .dataframe thead th {\n",
       "        text-align: right;\n",
       "    }\n",
       "</style>\n",
       "<table border=\"1\" class=\"dataframe\">\n",
       "  <thead>\n",
       "    <tr style=\"text-align: right;\">\n",
       "      <th></th>\n",
       "      <th>player</th>\n",
       "      <th>year_start</th>\n",
       "      <th>year_end</th>\n",
       "      <th>position</th>\n",
       "      <th>height_inches</th>\n",
       "      <th>weight</th>\n",
       "      <th>birth_date</th>\n",
       "      <th>college</th>\n",
       "    </tr>\n",
       "  </thead>\n",
       "  <tbody>\n",
       "    <tr>\n",
       "      <th>2</th>\n",
       "      <td>Kareem Abdul-Jabbar</td>\n",
       "      <td>1970</td>\n",
       "      <td>1989</td>\n",
       "      <td>C</td>\n",
       "      <td>86</td>\n",
       "      <td>225.0</td>\n",
       "      <td>April 16, 1947</td>\n",
       "      <td>University of California, Los Angeles</td>\n",
       "    </tr>\n",
       "    <tr>\n",
       "      <th>41</th>\n",
       "      <td>Chuck Aleksinas</td>\n",
       "      <td>1985</td>\n",
       "      <td>1985</td>\n",
       "      <td>C</td>\n",
       "      <td>83</td>\n",
       "      <td>260.0</td>\n",
       "      <td>February 26, 1959</td>\n",
       "      <td>University of Connecticut</td>\n",
       "    </tr>\n",
       "    <tr>\n",
       "      <th>154</th>\n",
       "      <td>Dennis Awtrey</td>\n",
       "      <td>1971</td>\n",
       "      <td>1982</td>\n",
       "      <td>C</td>\n",
       "      <td>82</td>\n",
       "      <td>235.0</td>\n",
       "      <td>February 22, 1948</td>\n",
       "      <td>Santa Clara University</td>\n",
       "    </tr>\n",
       "    <tr>\n",
       "      <th>167</th>\n",
       "      <td>Carl Bailey</td>\n",
       "      <td>1982</td>\n",
       "      <td>1982</td>\n",
       "      <td>C</td>\n",
       "      <td>84</td>\n",
       "      <td>210.0</td>\n",
       "      <td>April 23, 1958</td>\n",
       "      <td>Tuskegee University</td>\n",
       "    </tr>\n",
       "    <tr>\n",
       "      <th>187</th>\n",
       "      <td>Walker Banks</td>\n",
       "      <td>1971</td>\n",
       "      <td>1971</td>\n",
       "      <td>C</td>\n",
       "      <td>82</td>\n",
       "      <td>205.0</td>\n",
       "      <td>August 26, 1947</td>\n",
       "      <td>Western Kentucky University</td>\n",
       "    </tr>\n",
       "  </tbody>\n",
       "</table>\n",
       "</div>"
      ],
      "text/plain": [
       "                  player  year_start  year_end position  height_inches  \\\n",
       "2    Kareem Abdul-Jabbar        1970      1989        C             86   \n",
       "41       Chuck Aleksinas        1985      1985        C             83   \n",
       "154        Dennis Awtrey        1971      1982        C             82   \n",
       "167          Carl Bailey        1982      1982        C             84   \n",
       "187         Walker Banks        1971      1971        C             82   \n",
       "\n",
       "     weight         birth_date                                college  \n",
       "2     225.0     April 16, 1947  University of California, Los Angeles  \n",
       "41    260.0  February 26, 1959              University of Connecticut  \n",
       "154   235.0  February 22, 1948                 Santa Clara University  \n",
       "167   210.0     April 23, 1958                    Tuskegee University  \n",
       "187   205.0    August 26, 1947            Western Kentucky University  "
      ]
     },
     "execution_count": 25,
     "metadata": {},
     "output_type": "execute_result"
    }
   ],
   "source": [
    "# take a look at all the Centers during the span Kareem's playing days\n",
    "\n",
    "# all_centers = player_data_df[player_data_df[\"position\"] == \"C\"] - from Russell code\n",
    "\n",
    "centers_during_kareem_era = all_centers.query(\"1970 <= year_start < 1989\")\n",
    "\n",
    "centers_during_kareem_era.head()"
   ]
  },
  {
   "cell_type": "code",
   "execution_count": 26,
   "metadata": {},
   "outputs": [
    {
     "data": {
      "text/plain": [
       "83.31896551724138"
      ]
     },
     "execution_count": 26,
     "metadata": {},
     "output_type": "execute_result"
    }
   ],
   "source": [
    "# average height (in inches) of Centers during Kareem era\n",
    "\n",
    "centers_during_kareem_era[\"height_inches\"].mean()"
   ]
  },
  {
   "cell_type": "code",
   "execution_count": 27,
   "metadata": {},
   "outputs": [
    {
     "data": {
      "text/plain": [
       "234.31034482758622"
      ]
     },
     "execution_count": 27,
     "metadata": {},
     "output_type": "execute_result"
    }
   ],
   "source": [
    "# average weight (in pounds) of Centers during Kareem era\n",
    "\n",
    "centers_during_kareem_era[\"weight\"].mean()"
   ]
  },
  {
   "cell_type": "markdown",
   "metadata": {},
   "source": [
    "**So Kareem Abdul-Jabbar was:**\n",
    "\n",
    "- almost three inches taller than the other Centers during his reign (~2.69\"); and\n",
    "\n",
    "- nearly ten pounds (~9.31 pounds) lighter than the other Centers of his era"
   ]
  },
  {
   "cell_type": "markdown",
   "metadata": {},
   "source": [
    "**Seeing that all this code is repetitive, we can come up with a function to facilitate everything:**"
   ]
  },
  {
   "cell_type": "code",
   "execution_count": 28,
   "metadata": {},
   "outputs": [],
   "source": [
    "# part 1: get the player index\n",
    "\n",
    "def player_index(player):\n",
    "    \"\"\"\n",
    "    function to see how a select player's height in inches and weight in pounds\n",
    "    compared to the other players at the same position during their days of playing\n",
    "    \"\"\"\n",
    "    \n",
    "    # get the player index \n",
    "    player_in_df = player_data_df.loc[player_data_df[\"player\"] == player]\n",
    "    \n",
    "    # get back the index\n",
    "    return player_in_df\n",
    "    \n",
    "    \n",
    "    # take a look at all the players at that position playing days\n",
    "\n",
    "    # all_centers = player_data_df[player_data_df[\"position\"] == \"C\"] - from Russell code\n",
    "\n",
    "#     centers_during_kareem_era = all_centers.query(\"1970 <= year_start < 1989\")\n",
    "\n",
    "#     centers_during_kareem_era.head()\n",
    "    "
   ]
  },
  {
   "cell_type": "code",
   "execution_count": 29,
   "metadata": {},
   "outputs": [
    {
     "data": {
      "text/html": [
       "<div>\n",
       "<style scoped>\n",
       "    .dataframe tbody tr th:only-of-type {\n",
       "        vertical-align: middle;\n",
       "    }\n",
       "\n",
       "    .dataframe tbody tr th {\n",
       "        vertical-align: top;\n",
       "    }\n",
       "\n",
       "    .dataframe thead th {\n",
       "        text-align: right;\n",
       "    }\n",
       "</style>\n",
       "<table border=\"1\" class=\"dataframe\">\n",
       "  <thead>\n",
       "    <tr style=\"text-align: right;\">\n",
       "      <th></th>\n",
       "      <th>player</th>\n",
       "      <th>year_start</th>\n",
       "      <th>year_end</th>\n",
       "      <th>position</th>\n",
       "      <th>height_inches</th>\n",
       "      <th>weight</th>\n",
       "      <th>birth_date</th>\n",
       "      <th>college</th>\n",
       "    </tr>\n",
       "  </thead>\n",
       "  <tbody>\n",
       "    <tr>\n",
       "      <th>2116</th>\n",
       "      <td>Michael Jordan</td>\n",
       "      <td>1985</td>\n",
       "      <td>2003</td>\n",
       "      <td>G-F</td>\n",
       "      <td>78</td>\n",
       "      <td>195.0</td>\n",
       "      <td>February 17, 1963</td>\n",
       "      <td>University of North Carolina</td>\n",
       "    </tr>\n",
       "  </tbody>\n",
       "</table>\n",
       "</div>"
      ],
      "text/plain": [
       "              player  year_start  year_end position  height_inches  weight  \\\n",
       "2116  Michael Jordan        1985      2003      G-F             78   195.0   \n",
       "\n",
       "             birth_date                       college  \n",
       "2116  February 17, 1963  University of North Carolina  "
      ]
     },
     "execution_count": 29,
     "metadata": {},
     "output_type": "execute_result"
    }
   ],
   "source": [
    "# checking to see if function works\n",
    "player_index(\"Michael Jordan\")"
   ]
  },
  {
   "cell_type": "code",
   "execution_count": 32,
   "metadata": {},
   "outputs": [],
   "source": [
    "# part 2: get the other players at tht position during the player's era\n",
    "\n",
    "def on_court(rookie_year):\n",
    "    \"\"\"\n",
    "    function to get the range of the players' playing years and those at same position\n",
    "    \"\"\"\n",
    "    range = [player_data_df[\"year_start\", \"year_end\"]]\n",
    "\n",
    "    for a, b in range:\n",
    "        if a <= rookie_year <= b:\n",
    "            return rookie_year\n",
    "        return False\n",
    "\n",
    "    \n",
    "#     # get the player's position\n",
    "#     role = player_data_df[\"position\"]\n",
    "#     all_positions = player_data_df[player_data_df[\"position\"] == role] \n",
    "#     return all_positions\n",
    "    \n",
    "    # get the position data during players' playing years\n",
    "    \n",
    "\n",
    "#     centers_during_kareem_era = all_centers.query(\"1970 <= year_start < 1989\")\n",
    "\n",
    "#     centers_during_kareem_era.head()\n",
    "    "
   ]
  },
  {
   "cell_type": "code",
   "execution_count": 33,
   "metadata": {},
   "outputs": [
    {
     "ename": "KeyError",
     "evalue": "('year_start', 'year_end')",
     "output_type": "error",
     "traceback": [
      "\u001b[0;31m---------------------------------------------------------------------------\u001b[0m",
      "\u001b[0;31mKeyError\u001b[0m                                  Traceback (most recent call last)",
      "\u001b[0;32m/usr/local/anaconda3/lib/python3.7/site-packages/pandas/core/indexes/base.py\u001b[0m in \u001b[0;36mget_loc\u001b[0;34m(self, key, method, tolerance)\u001b[0m\n\u001b[1;32m   2896\u001b[0m             \u001b[0;32mtry\u001b[0m\u001b[0;34m:\u001b[0m\u001b[0;34m\u001b[0m\u001b[0;34m\u001b[0m\u001b[0m\n\u001b[0;32m-> 2897\u001b[0;31m                 \u001b[0;32mreturn\u001b[0m \u001b[0mself\u001b[0m\u001b[0;34m.\u001b[0m\u001b[0m_engine\u001b[0m\u001b[0;34m.\u001b[0m\u001b[0mget_loc\u001b[0m\u001b[0;34m(\u001b[0m\u001b[0mkey\u001b[0m\u001b[0;34m)\u001b[0m\u001b[0;34m\u001b[0m\u001b[0;34m\u001b[0m\u001b[0m\n\u001b[0m\u001b[1;32m   2898\u001b[0m             \u001b[0;32mexcept\u001b[0m \u001b[0mKeyError\u001b[0m\u001b[0;34m:\u001b[0m\u001b[0;34m\u001b[0m\u001b[0;34m\u001b[0m\u001b[0m\n",
      "\u001b[0;32mpandas/_libs/index.pyx\u001b[0m in \u001b[0;36mpandas._libs.index.IndexEngine.get_loc\u001b[0;34m()\u001b[0m\n",
      "\u001b[0;32mpandas/_libs/index.pyx\u001b[0m in \u001b[0;36mpandas._libs.index.IndexEngine.get_loc\u001b[0;34m()\u001b[0m\n",
      "\u001b[0;32mpandas/_libs/hashtable_class_helper.pxi\u001b[0m in \u001b[0;36mpandas._libs.hashtable.PyObjectHashTable.get_item\u001b[0;34m()\u001b[0m\n",
      "\u001b[0;32mpandas/_libs/hashtable_class_helper.pxi\u001b[0m in \u001b[0;36mpandas._libs.hashtable.PyObjectHashTable.get_item\u001b[0;34m()\u001b[0m\n",
      "\u001b[0;31mKeyError\u001b[0m: ('year_start', 'year_end')",
      "\nDuring handling of the above exception, another exception occurred:\n",
      "\u001b[0;31mKeyError\u001b[0m                                  Traceback (most recent call last)",
      "\u001b[0;32m<ipython-input-33-703577139339>\u001b[0m in \u001b[0;36m<module>\u001b[0;34m\u001b[0m\n\u001b[0;32m----> 1\u001b[0;31m \u001b[0mon_court\u001b[0m\u001b[0;34m(\u001b[0m\u001b[0;36m1985\u001b[0m\u001b[0;34m)\u001b[0m\u001b[0;34m\u001b[0m\u001b[0;34m\u001b[0m\u001b[0m\n\u001b[0m",
      "\u001b[0;32m<ipython-input-32-04783d300131>\u001b[0m in \u001b[0;36mon_court\u001b[0;34m(rookie_year)\u001b[0m\n\u001b[1;32m      5\u001b[0m     \u001b[0mfunction\u001b[0m \u001b[0mto\u001b[0m \u001b[0mget\u001b[0m \u001b[0mthe\u001b[0m \u001b[0mrange\u001b[0m \u001b[0mof\u001b[0m \u001b[0mthe\u001b[0m \u001b[0mplayers\u001b[0m\u001b[0;31m'\u001b[0m \u001b[0mplaying\u001b[0m \u001b[0myears\u001b[0m \u001b[0;32mand\u001b[0m \u001b[0mthose\u001b[0m \u001b[0mat\u001b[0m \u001b[0msame\u001b[0m \u001b[0mposition\u001b[0m\u001b[0;34m\u001b[0m\u001b[0;34m\u001b[0m\u001b[0m\n\u001b[1;32m      6\u001b[0m     \"\"\"\n\u001b[0;32m----> 7\u001b[0;31m     \u001b[0mrange\u001b[0m \u001b[0;34m=\u001b[0m \u001b[0;34m[\u001b[0m\u001b[0mplayer_data_df\u001b[0m\u001b[0;34m[\u001b[0m\u001b[0;34m\"year_start\"\u001b[0m\u001b[0;34m,\u001b[0m \u001b[0;34m\"year_end\"\u001b[0m\u001b[0;34m]\u001b[0m\u001b[0;34m]\u001b[0m\u001b[0;34m\u001b[0m\u001b[0;34m\u001b[0m\u001b[0m\n\u001b[0m\u001b[1;32m      8\u001b[0m \u001b[0;34m\u001b[0m\u001b[0m\n\u001b[1;32m      9\u001b[0m     \u001b[0;32mfor\u001b[0m \u001b[0ma\u001b[0m\u001b[0;34m,\u001b[0m \u001b[0mb\u001b[0m \u001b[0;32min\u001b[0m \u001b[0mrange\u001b[0m\u001b[0;34m:\u001b[0m\u001b[0;34m\u001b[0m\u001b[0;34m\u001b[0m\u001b[0m\n",
      "\u001b[0;32m/usr/local/anaconda3/lib/python3.7/site-packages/pandas/core/frame.py\u001b[0m in \u001b[0;36m__getitem__\u001b[0;34m(self, key)\u001b[0m\n\u001b[1;32m   2993\u001b[0m             \u001b[0;32mif\u001b[0m \u001b[0mself\u001b[0m\u001b[0;34m.\u001b[0m\u001b[0mcolumns\u001b[0m\u001b[0;34m.\u001b[0m\u001b[0mnlevels\u001b[0m \u001b[0;34m>\u001b[0m \u001b[0;36m1\u001b[0m\u001b[0;34m:\u001b[0m\u001b[0;34m\u001b[0m\u001b[0;34m\u001b[0m\u001b[0m\n\u001b[1;32m   2994\u001b[0m                 \u001b[0;32mreturn\u001b[0m \u001b[0mself\u001b[0m\u001b[0;34m.\u001b[0m\u001b[0m_getitem_multilevel\u001b[0m\u001b[0;34m(\u001b[0m\u001b[0mkey\u001b[0m\u001b[0;34m)\u001b[0m\u001b[0;34m\u001b[0m\u001b[0;34m\u001b[0m\u001b[0m\n\u001b[0;32m-> 2995\u001b[0;31m             \u001b[0mindexer\u001b[0m \u001b[0;34m=\u001b[0m \u001b[0mself\u001b[0m\u001b[0;34m.\u001b[0m\u001b[0mcolumns\u001b[0m\u001b[0;34m.\u001b[0m\u001b[0mget_loc\u001b[0m\u001b[0;34m(\u001b[0m\u001b[0mkey\u001b[0m\u001b[0;34m)\u001b[0m\u001b[0;34m\u001b[0m\u001b[0;34m\u001b[0m\u001b[0m\n\u001b[0m\u001b[1;32m   2996\u001b[0m             \u001b[0;32mif\u001b[0m \u001b[0mis_integer\u001b[0m\u001b[0;34m(\u001b[0m\u001b[0mindexer\u001b[0m\u001b[0;34m)\u001b[0m\u001b[0;34m:\u001b[0m\u001b[0;34m\u001b[0m\u001b[0;34m\u001b[0m\u001b[0m\n\u001b[1;32m   2997\u001b[0m                 \u001b[0mindexer\u001b[0m \u001b[0;34m=\u001b[0m \u001b[0;34m[\u001b[0m\u001b[0mindexer\u001b[0m\u001b[0;34m]\u001b[0m\u001b[0;34m\u001b[0m\u001b[0;34m\u001b[0m\u001b[0m\n",
      "\u001b[0;32m/usr/local/anaconda3/lib/python3.7/site-packages/pandas/core/indexes/base.py\u001b[0m in \u001b[0;36mget_loc\u001b[0;34m(self, key, method, tolerance)\u001b[0m\n\u001b[1;32m   2897\u001b[0m                 \u001b[0;32mreturn\u001b[0m \u001b[0mself\u001b[0m\u001b[0;34m.\u001b[0m\u001b[0m_engine\u001b[0m\u001b[0;34m.\u001b[0m\u001b[0mget_loc\u001b[0m\u001b[0;34m(\u001b[0m\u001b[0mkey\u001b[0m\u001b[0;34m)\u001b[0m\u001b[0;34m\u001b[0m\u001b[0;34m\u001b[0m\u001b[0m\n\u001b[1;32m   2898\u001b[0m             \u001b[0;32mexcept\u001b[0m \u001b[0mKeyError\u001b[0m\u001b[0;34m:\u001b[0m\u001b[0;34m\u001b[0m\u001b[0;34m\u001b[0m\u001b[0m\n\u001b[0;32m-> 2899\u001b[0;31m                 \u001b[0;32mreturn\u001b[0m \u001b[0mself\u001b[0m\u001b[0;34m.\u001b[0m\u001b[0m_engine\u001b[0m\u001b[0;34m.\u001b[0m\u001b[0mget_loc\u001b[0m\u001b[0;34m(\u001b[0m\u001b[0mself\u001b[0m\u001b[0;34m.\u001b[0m\u001b[0m_maybe_cast_indexer\u001b[0m\u001b[0;34m(\u001b[0m\u001b[0mkey\u001b[0m\u001b[0;34m)\u001b[0m\u001b[0;34m)\u001b[0m\u001b[0;34m\u001b[0m\u001b[0;34m\u001b[0m\u001b[0m\n\u001b[0m\u001b[1;32m   2900\u001b[0m         \u001b[0mindexer\u001b[0m \u001b[0;34m=\u001b[0m \u001b[0mself\u001b[0m\u001b[0;34m.\u001b[0m\u001b[0mget_indexer\u001b[0m\u001b[0;34m(\u001b[0m\u001b[0;34m[\u001b[0m\u001b[0mkey\u001b[0m\u001b[0;34m]\u001b[0m\u001b[0;34m,\u001b[0m \u001b[0mmethod\u001b[0m\u001b[0;34m=\u001b[0m\u001b[0mmethod\u001b[0m\u001b[0;34m,\u001b[0m \u001b[0mtolerance\u001b[0m\u001b[0;34m=\u001b[0m\u001b[0mtolerance\u001b[0m\u001b[0;34m)\u001b[0m\u001b[0;34m\u001b[0m\u001b[0;34m\u001b[0m\u001b[0m\n\u001b[1;32m   2901\u001b[0m         \u001b[0;32mif\u001b[0m \u001b[0mindexer\u001b[0m\u001b[0;34m.\u001b[0m\u001b[0mndim\u001b[0m \u001b[0;34m>\u001b[0m \u001b[0;36m1\u001b[0m \u001b[0;32mor\u001b[0m \u001b[0mindexer\u001b[0m\u001b[0;34m.\u001b[0m\u001b[0msize\u001b[0m \u001b[0;34m>\u001b[0m \u001b[0;36m1\u001b[0m\u001b[0;34m:\u001b[0m\u001b[0;34m\u001b[0m\u001b[0;34m\u001b[0m\u001b[0m\n",
      "\u001b[0;32mpandas/_libs/index.pyx\u001b[0m in \u001b[0;36mpandas._libs.index.IndexEngine.get_loc\u001b[0;34m()\u001b[0m\n",
      "\u001b[0;32mpandas/_libs/index.pyx\u001b[0m in \u001b[0;36mpandas._libs.index.IndexEngine.get_loc\u001b[0;34m()\u001b[0m\n",
      "\u001b[0;32mpandas/_libs/hashtable_class_helper.pxi\u001b[0m in \u001b[0;36mpandas._libs.hashtable.PyObjectHashTable.get_item\u001b[0;34m()\u001b[0m\n",
      "\u001b[0;32mpandas/_libs/hashtable_class_helper.pxi\u001b[0m in \u001b[0;36mpandas._libs.hashtable.PyObjectHashTable.get_item\u001b[0;34m()\u001b[0m\n",
      "\u001b[0;31mKeyError\u001b[0m: ('year_start', 'year_end')"
     ]
    }
   ],
   "source": [
    "on_court(1985)"
   ]
  },
  {
   "cell_type": "code",
   "execution_count": null,
   "metadata": {},
   "outputs": [],
   "source": []
  },
  {
   "cell_type": "code",
   "execution_count": null,
   "metadata": {},
   "outputs": [],
   "source": [
    "all_pos_df = player_data_df.loc[player_data_df[\"year_start\"]==1957]\n",
    "\n",
    "center_rookie_year_df = all_pos_df.loc[all_pos_df[\"position\"]== \"C\"]\n",
    "\n",
    "center_rookie_year_df"
   ]
  },
  {
   "cell_type": "code",
   "execution_count": null,
   "metadata": {},
   "outputs": [],
   "source": [
    "# mean height of all Centers during the Bill Russell era\n",
    "center_df = player_data_df[\"position\"] == \"C\"\n",
    "center_mean_ht = player_data_df.loc[center_df, \"height_inches\"].mean()\n",
    "\n",
    "year_start_centers = player_data_df.loc[center_df, player_data_df.loc[1957]\n",
    "# year_end_centers = player_data_df.loc[player_data_df[\"year_end\"] == 1969]\n",
    "\n",
    "print(year_start_centers)\n",
    "\n",
    "#russell_era_centers\n"
   ]
  },
  {
   "cell_type": "code",
   "execution_count": null,
   "metadata": {},
   "outputs": [],
   "source": [
    "# mean height and weight of Centers the year he started\n",
    "\n",
    "year_start_centers = player_data_df.loc[player_data_df[\"year_start\"]== 1957]\n",
    "year_end_centers = player_data_df.loc[player_data_df[\"year_end\"] == 1969]\n",
    "\n",
    "russell_era_centers = year_start_centers, year_end_centers\n",
    "\n",
    "russell_era_centers"
   ]
  },
  {
   "cell_type": "code",
   "execution_count": null,
   "metadata": {},
   "outputs": [],
   "source": [
    "# mean height and weight of Centers the year he retired\n",
    "\n",
    "year_end_centers = player_data_df.loc[player_data_df[\"year_end\"]== 1969].mean()\n",
    "\n",
    "year_end_centers"
   ]
  },
  {
   "cell_type": "code",
   "execution_count": null,
   "metadata": {},
   "outputs": [],
   "source": []
  },
  {
   "cell_type": "code",
   "execution_count": null,
   "metadata": {},
   "outputs": [],
   "source": [
    "# Doctor J\n",
    "player_data_df.loc[player_data_df[\"player\"] == \"Julius Erving\"]"
   ]
  },
  {
   "cell_type": "code",
   "execution_count": null,
   "metadata": {},
   "outputs": [],
   "source": [
    "# mean height and weight of Forwards the year he started"
   ]
  },
  {
   "cell_type": "code",
   "execution_count": null,
   "metadata": {},
   "outputs": [],
   "source": [
    "# mean height and weight of Guards the year he started"
   ]
  },
  {
   "cell_type": "code",
   "execution_count": null,
   "metadata": {},
   "outputs": [],
   "source": [
    "# mean height and weight of Forwards the year he retired"
   ]
  },
  {
   "cell_type": "code",
   "execution_count": null,
   "metadata": {},
   "outputs": [],
   "source": [
    "# mean height and weight of Guards the year he retired"
   ]
  },
  {
   "cell_type": "code",
   "execution_count": null,
   "metadata": {},
   "outputs": [],
   "source": [
    "# Kareem\n",
    "player_data_df.loc[player_data_df[\"player\"] == \"Kareem Abdul-Jabbar\"]"
   ]
  },
  {
   "cell_type": "code",
   "execution_count": null,
   "metadata": {},
   "outputs": [],
   "source": [
    "# mean height and weight of Centers the year he started"
   ]
  },
  {
   "cell_type": "code",
   "execution_count": null,
   "metadata": {},
   "outputs": [],
   "source": [
    "# mean height and weight of Centers the year he retired"
   ]
  },
  {
   "cell_type": "code",
   "execution_count": null,
   "metadata": {},
   "outputs": [],
   "source": []
  },
  {
   "cell_type": "code",
   "execution_count": null,
   "metadata": {},
   "outputs": [],
   "source": []
  },
  {
   "cell_type": "markdown",
   "metadata": {},
   "source": [
    "## Now for 'players_df' work"
   ]
  },
  {
   "cell_type": "code",
   "execution_count": null,
   "metadata": {},
   "outputs": [],
   "source": [
    "players_df = nba_acquire.data_of_players()\n",
    "\n",
    "players_df.head()"
   ]
  },
  {
   "cell_type": "code",
   "execution_count": null,
   "metadata": {},
   "outputs": [],
   "source": [
    "# change 'Player' column to 'player' so we can merge later\n",
    "players_df = players_df.rename(columns={\"Player\" : \"player\"})"
   ]
  },
  {
   "cell_type": "code",
   "execution_count": null,
   "metadata": {},
   "outputs": [],
   "source": [
    "players_df.info()"
   ]
  },
  {
   "cell_type": "code",
   "execution_count": null,
   "metadata": {},
   "outputs": [],
   "source": [
    "# make sure no columns are duped for later merger\n",
    "players_df.columns.duplicated()"
   ]
  },
  {
   "cell_type": "markdown",
   "metadata": {},
   "source": [
    "## Lastly, 'seasons_stats_df'"
   ]
  },
  {
   "cell_type": "code",
   "execution_count": null,
   "metadata": {},
   "outputs": [],
   "source": [
    "seasons_stats_df = nba_acquire.seasons_stats()\n",
    "\n",
    "seasons_stats_df.head()"
   ]
  },
  {
   "cell_type": "code",
   "execution_count": null,
   "metadata": {},
   "outputs": [],
   "source": [
    "seasons_stats_df.info()"
   ]
  },
  {
   "cell_type": "code",
   "execution_count": null,
   "metadata": {},
   "outputs": [],
   "source": [
    "# checking for dupes for later merge\n",
    "seasons_stats_df.columns.duplicated()"
   ]
  },
  {
   "cell_type": "markdown",
   "metadata": {},
   "source": [
    "**We have a duplicated column at column 39.  For a successful dataframe merger, we need to get rid of that column.**"
   ]
  },
  {
   "cell_type": "code",
   "execution_count": null,
   "metadata": {},
   "outputs": [],
   "source": [
    "# assigns new seasons_stats_df to be all the columns that\n",
    "# are NOT (~) duplicated\n",
    "\n",
    "# if we don't do this now, when we import the final_df \n",
    "# from this notebook, we will get the following error:\n",
    "# \"ValueError: Plan shapes are not aligned\"\n",
    "\n",
    "# that error tells us there is a duplicate column in one \n",
    "# of the dataframes\n",
    "\n",
    "seasons_stats_df = seasons_stats_df.loc[:,~seasons_stats_df.columns.duplicated()]"
   ]
  },
  {
   "cell_type": "code",
   "execution_count": null,
   "metadata": {},
   "outputs": [],
   "source": [
    "seasons_stats_df.columns.duplicated()"
   ]
  },
  {
   "cell_type": "markdown",
   "metadata": {},
   "source": [
    "**Now that the duplicated column has been eliminated, we can address the fact that 'seasons_stats_df' contains a lot of floats where we could have integers.  Again: hate the '.0' if there's no need for one**"
   ]
  },
  {
   "cell_type": "code",
   "execution_count": null,
   "metadata": {},
   "outputs": [],
   "source": [
    "# using dictionary to convert specific columns \n",
    "convert_dict = {\"2_point_tries\" : int, \n",
    "                \"2_pointers\" : int,\n",
    "                \"3_point_tries\" : int,\n",
    "                \"3_pointers\" : int, \n",
    "                \"age\" : int,\n",
    "                \"assists\" : int, \n",
    "                \"blocks\" : int, \n",
    "                \"def_rebounds\" : int, \n",
    "                \"field_goal_attempts\" : int, \n",
    "                \"field_goals\" : int,\n",
    "                \"free_throws\" : int, \n",
    "                \"free_throw_attempts\" : int, \n",
    "                \"games\" : int, \n",
    "                \"games_started\" : int, \n",
    "                \"off_rebounds\" : int, \n",
    "                \"personal_fouls\" : int, \n",
    "                \"points\" : int, \n",
    "                \"steals\" : int,\n",
    "                \"three_pt_tries\" : int,\n",
    "                \"total_rebounds\" : int, \n",
    "                \"turnovers\" : int, \n",
    "                \"year\" : int,\n",
    "               } \n",
    "\n",
    "# turn off column limit so I can see the data in all columns:\n",
    "pd.options.display.max_columns = None\n",
    "  \n",
    "seasons_stats_df = seasons_stats_df.astype(convert_dict) \n",
    "print(seasons_stats_df.dtypes.tolist()) \n",
    "\n",
    "# # save the columns as a variable\n",
    "# float_cols = [\"2_point_tries\", \"2_pointers\", \"3_point_tries\", \"3_pointers\", \n",
    "#              \"age\", \"assists\", \"blocks\", \"def_rebounds\", \"field_goal_attempts\",\n",
    "#              \"field_goals\", \"free_throw_attempts\", \"games\", \"games_started\",\n",
    "#              \"off_rebounds\", \"personal_fouls\", \"points\", \"steals\", \n",
    "#              \"total_rebounds\", \"turnovers\", \"year\",]\n",
    "\n",
    "# # convert those columns to integers\n",
    "# seasons_stats_df = seasons_stats_df[float_cols].astype(int) \n",
    "\n",
    "# # check to see the datatypes have changed to what I wanted\n",
    "# seasons_stats_df.head()"
   ]
  },
  {
   "cell_type": "code",
   "execution_count": null,
   "metadata": {},
   "outputs": [],
   "source": [
    "seasons_stats_df.head()"
   ]
  },
  {
   "cell_type": "code",
   "execution_count": null,
   "metadata": {},
   "outputs": [],
   "source": []
  },
  {
   "cell_type": "markdown",
   "metadata": {},
   "source": [
    "**Because a lot of this info is repetitive and we can do a better analysis of the data in such a manner, I am combining the three dataframes into one**\n",
    "\n",
    "- The backbone will be the seasons_stats_df, as it is by far the most comprehensive.  However, 'player_data_df' and 'players_df' both have additional information, like each player's height (in inches), weight (in pounds), and the college the attended (if they went to college)\n",
    "\n",
    "- When doing analysis we can append the data as needed"
   ]
  },
  {
   "cell_type": "markdown",
   "metadata": {},
   "source": [
    "**First, though, we need to develop a data dictionary to figure out what all this is.**\n",
    "\n",
    "**player_efficiency -** per its inventor (ESPN columnist John Hollinger), it \"sums up all a player's positive accomplishments, subtracts the negative accomplishments, and returns a per-minute rating of a player's performance.\"  Basically, the formula for calculating it is:\n",
    ">*positive deed - negative deed = per minute rating of player's performance*\n",
    "\n",
    "**true_shooting_% -** a measure of shooting efficiency taking into account 3-pointers, 2-pointers, and free throws.  Calculated using *points / (2 X shooting attempts)*\n",
    "\n",
    "**rebound -** when someone misses a shot, whoever grabs the ball after the missed shot gets the 'rebound.'  If the person is on the same team as the one who took the shot, that's called an 'offensive rebound.'  If on the other team, a 'defensive rebound.' \n",
    "\n",
    "**off_rebound_% -** an estimated percentage of the total amount of rebounds a player got per game that maintained possession for their team \n",
    "\n",
    "**def_rebound_% -** an estimated percentage of the total amount of rebounds a player got per game that turned possession in favor of their team. \n",
    "\n",
    "**asst_% -** an assist is when one player passes to another who makes the basket after receiving the pass.  They receiver is entitled to one dribble after getting the pass - more than that, and the player who passed them the ball loses the assist\n",
    "\n",
    "**usage_% -** an estimate of the percentage of team plays involving the individual player during his time on the court\n",
    "\n",
    "**win_shares -** an estimate of the number of team wins to which the individual player contributed.  It includes the number of points the player contributed, as well as that player's time of possession compared to the average time of possession for the rest of the league\n",
    "\n",
    "- **offensive_win_shares -** \n",
    "\n",
    "- **defensive_win_shares -**\n",
    "\n",
    "- **win_shares_per_48min -**\n",
    "\n",
    "**box_plus_minus _**\n",
    "\n",
    "- **off_box_plus_minus -**\n",
    "\n",
    "- **def_box_plus_minus -**\n",
    "\n",
    "**value_over_replacement -**\n",
    "\n",
    "**field_goals -**\n",
    "\n",
    "**effective_field_goal_% -**"
   ]
  },
  {
   "cell_type": "code",
   "execution_count": null,
   "metadata": {},
   "outputs": [],
   "source": [
    "# seasons_stats_df[\"height_inches\"] = np.where(seasons_stats_df[\"player\"] == player_data_df[\"name\"],\n",
    "#                                              'True','False')\n",
    "\n",
    "# yielded the following error:\n",
    "# ValueError: Can only compare identically-labeled Series objects"
   ]
  },
  {
   "cell_type": "markdown",
   "metadata": {},
   "source": [
    "**^^Have to change the 'name' column in player_data_df to 'player' so that we can compare columns in different dataframes**"
   ]
  },
  {
   "cell_type": "code",
   "execution_count": null,
   "metadata": {},
   "outputs": [],
   "source": [
    "# player_data_df = player_data_df.rename(columns={\"name\" : \"player\"})\n",
    "\n",
    "# print(player_data_df.head())"
   ]
  },
  {
   "cell_type": "markdown",
   "metadata": {},
   "source": [
    "**Done.  Now let's try comparing the two df's again:**"
   ]
  },
  {
   "cell_type": "code",
   "execution_count": null,
   "metadata": {},
   "outputs": [],
   "source": [
    "# seasons_stats_df[\"height_inches\"] = np.where(seasons_stats_df[\"player\"] == player_data_df[\"player\"],\n",
    "#                                               'True','False')\n",
    "\n",
    "# Nope, same error:\n",
    "# ValueError: Can only compare identically-labeled Series objects"
   ]
  },
  {
   "cell_type": "code",
   "execution_count": null,
   "metadata": {},
   "outputs": [],
   "source": [
    "# df4 = player_data_df.loc[player_data_df[\"player\"] == seasons_stats_df[\"player\"]].values\n",
    "\n",
    "# df4.head()\n",
    "\n",
    "# Nope.  Same error:\n",
    "#ValueError: Can only compare identically-labeled Series objects"
   ]
  },
  {
   "cell_type": "markdown",
   "metadata": {},
   "source": [
    "**Looks like the problem is that whenever I try to work with these dataframes, the indexes don't match, and so I need to do that:**"
   ]
  },
  {
   "cell_type": "code",
   "execution_count": null,
   "metadata": {},
   "outputs": [],
   "source": [
    "# for player_data_df:\n",
    "# player_data_df = player_data_df.set_index(\"player\")\n",
    "\n",
    "# player_data_df.head()\n",
    "\n",
    "# didn't do any good"
   ]
  },
  {
   "cell_type": "code",
   "execution_count": null,
   "metadata": {},
   "outputs": [],
   "source": [
    "# for seasons_stats_df:\n",
    "# seasons_stats_df = seasons_stats_df.set_index(\"player\")\n",
    "\n",
    "# seasons_stats_df.head()\n",
    "\n",
    "# didn't do any good"
   ]
  },
  {
   "cell_type": "markdown",
   "metadata": {},
   "source": [
    "**Okay, so indexes are set, now let's try that code again:**"
   ]
  },
  {
   "cell_type": "code",
   "execution_count": null,
   "metadata": {},
   "outputs": [],
   "source": [
    "# seasons_stats_df[\"height_inches\"] = np.where(seasons_stats_df[\"player\"] == player_data_df[\"player\"],\n",
    "#                                               'True','False')\n",
    "\n",
    "# Nope. Got this error:\n",
    "# KeyError: 'player'"
   ]
  },
  {
   "cell_type": "code",
   "execution_count": null,
   "metadata": {},
   "outputs": [],
   "source": [
    "# seasons_stats_df[\"height_inches\"] = np.where(seasons_stats_df.index == player_data_df.index,\n",
    "#                                               'True','False')\n",
    "\n",
    "# Negatory.  Got this error:\n",
    "# ValueError: Lengths must match to compare"
   ]
  },
  {
   "cell_type": "markdown",
   "metadata": {},
   "source": [
    "**Okay, so running into some problems.  Need to consider the following:**\n",
    "\n",
    "- since the indexes are different (substantially, given player_data_df only has 4,550 rows and seasons_stats_df has 24,691 rows), I can't just merge the player_data_df column 'height_inches' onto the seasons_stats_df wherever the names match.  \n",
    "\n",
    "- I have to search 'seasons_stats_df' for player matches"
   ]
  },
  {
   "cell_type": "code",
   "execution_count": null,
   "metadata": {},
   "outputs": [],
   "source": [
    "# checking to make sure this is the info in 'player' column of 'player_data_df'\n",
    "print(player_data_df.index)"
   ]
  },
  {
   "cell_type": "code",
   "execution_count": null,
   "metadata": {},
   "outputs": [],
   "source": [
    "# try merging\n",
    "\n",
    "final_df = pd.merge(seasons_stats_df, player_data_df, on=[\"player\"], how=\"left\")\n",
    "\n",
    "final_df.head()\n",
    "\n",
    "# Individual_df = pd.merge(Person_df, Target_df2, on=['Country'], how='left')\n",
    "# Individual_df['TargetID'] = Individual_df['Name'] + df3['Emplid'].astype(str) + ((df3.groupby('Emplid').cumcount() + 1).astype(str).str.zfill(2))\n",
    "# Individual_df = Individual_df[['TargetID', 'Category', 'Target']]\n",
    "# print Individual_df"
   ]
  },
  {
   "cell_type": "code",
   "execution_count": null,
   "metadata": {},
   "outputs": [],
   "source": [
    "final_df.columns"
   ]
  },
  {
   "cell_type": "markdown",
   "metadata": {},
   "source": [
    "**Lots of info here, but we could also use the information from the players_df regarding where these players were born.  Would be helpful for some type of analysis where we're asked 'In what region are most NBA players born?'**"
   ]
  },
  {
   "cell_type": "code",
   "execution_count": null,
   "metadata": {},
   "outputs": [],
   "source": [
    "# merge the two dataframes\n",
    "# final_df = pd.concat([final_df, players_df])\n",
    "\n",
    "# gave me the following error:\n",
    "# AttributeError: 'NoneType' object has no attribute 'is_extension'"
   ]
  },
  {
   "cell_type": "markdown",
   "metadata": {},
   "source": [
    "**Based on some investigation, this error(^^) is due to duplicate column names.  Looks like I need to drop the names from players_df has in common with final_df**"
   ]
  },
  {
   "cell_type": "code",
   "execution_count": null,
   "metadata": {},
   "outputs": [],
   "source": [
    "players_df.info()"
   ]
  },
  {
   "cell_type": "code",
   "execution_count": null,
   "metadata": {},
   "outputs": [],
   "source": [
    "# players_df = players_df.drop([\"player\", \"height\", \"weight\", \"college\",], axis=1)\n",
    "# players_df.head()"
   ]
  },
  {
   "cell_type": "markdown",
   "metadata": {},
   "source": [
    "**Now that the similar column names have been dropped, let's try the merge again:**"
   ]
  },
  {
   "cell_type": "code",
   "execution_count": null,
   "metadata": {},
   "outputs": [],
   "source": [
    "final_df.columns.duplicated()"
   ]
  },
  {
   "cell_type": "markdown",
   "metadata": {},
   "source": [
    "**One duplicate column = \"free throws\".  Let's check the values so we can decide which to drop:**"
   ]
  },
  {
   "cell_type": "code",
   "execution_count": null,
   "metadata": {},
   "outputs": [],
   "source": [
    "# checks to see which columns are NOT duplicates (indicated by ~ for 'not')\n",
    "final_df = final_df.loc[:,~final_df.columns.duplicated()]\n",
    "final_df"
   ]
  },
  {
   "cell_type": "code",
   "execution_count": null,
   "metadata": {},
   "outputs": [],
   "source": [
    "final_df.columns"
   ]
  },
  {
   "cell_type": "markdown",
   "metadata": {},
   "source": [
    "**Okay, looks like the second instance of 'free_throws' was removed, keeping the data from the first.  On to the next df, 'players_df':**"
   ]
  },
  {
   "cell_type": "code",
   "execution_count": null,
   "metadata": {},
   "outputs": [],
   "source": [
    "players_df.columns.duplicated()"
   ]
  },
  {
   "cell_type": "markdown",
   "metadata": {},
   "source": [
    "**Okay, no duplicates anywhere.  NOW let's try merging the two df's into a final one.**"
   ]
  },
  {
   "cell_type": "code",
   "execution_count": null,
   "metadata": {},
   "outputs": [],
   "source": [
    "final_df = pd.concat([final_df, players_df])\n",
    "# ^^ works, but need raised the following error on import for exploration:\n",
    "# \"ValueError: Plan shapes are not aligned\"\n",
    "\n",
    "# if concat doesn't work:\n",
    "# trying merge instead of concat\n",
    "# final_df = pd.merge(final_df, player_data_df, on=[\"player\"], how=\"left\")\n",
    "\n",
    "# turn off column limit so I can see the data in all columns:\n",
    "pd.options.display.max_columns = None\n",
    "\n",
    "final_df.head()"
   ]
  },
  {
   "cell_type": "code",
   "execution_count": null,
   "metadata": {},
   "outputs": [],
   "source": [
    "final_df.columns"
   ]
  },
  {
   "cell_type": "markdown",
   "metadata": {},
   "source": [
    "**Whenever you merge dataframes, you risk duplicating keys, and that results in a doubling of rows.  For example, if I wanted to look at a single index, I would code <span style=\"color:blue\">'df.loc[[index 15]]'</span> (15 was picked at random for example's sake) and get:***\n",
    "\n",
    "|Output|\n",
    "|:---------------------------------------:|\n",
    "|15     Data.    Data.    Data.    Data.  |\n",
    "|15     Data.    Data.    Data.    Data.  |\n",
    "\n",
    "**Solution is to drop the duplicates to the left and right of the merge**"
   ]
  },
  {
   "cell_type": "code",
   "execution_count": null,
   "metadata": {},
   "outputs": [],
   "source": [
    "# drop dupes on left\n",
    "final_df.drop_duplicates(subset=\"player\", inplace=True)\n",
    "\n",
    "# drop dupes on right\n",
    "# final_df.drop_duplicates(subset=right_key)"
   ]
  },
  {
   "cell_type": "code",
   "execution_count": null,
   "metadata": {},
   "outputs": [],
   "source": [
    "# check\n",
    "final_df.loc[[54]]"
   ]
  },
  {
   "cell_type": "code",
   "execution_count": null,
   "metadata": {},
   "outputs": [],
   "source": [
    "# double check\n",
    "final_df.loc[[103]]"
   ]
  },
  {
   "cell_type": "code",
   "execution_count": null,
   "metadata": {},
   "outputs": [],
   "source": [
    "final_df.info()"
   ]
  },
  {
   "cell_type": "code",
   "execution_count": null,
   "metadata": {},
   "outputs": [],
   "source": [
    "# # using dictionary to convert specific columns \n",
    "# final_convert = {\"2_point_tries\" : int, \n",
    "#                 \"2_pointers\" : int,\n",
    "#                 \"3_point_tries\" : int,\n",
    "#                 \"3_pointers\" : int, \n",
    "#                 \"age\" : int,\n",
    "#                 \"assists\" : int, \n",
    "#                 \"blocks\" : int,\n",
    "#                 \"born\" : int, \n",
    "#                 \"def_rebounds\" : int, \n",
    "#                 \"field_goal_attempts\" : int, \n",
    "#                 \"field_goals\" : int,\n",
    "#                 \"free_throws\" : int, \n",
    "#                 \"free_throw_attempts\" : int, \n",
    "#                 \"games\" : int, \n",
    "#                 \"games_started\" : int, \n",
    "#                 \"height_inches\" : int,\n",
    "#                 \"minutes_played\" : int, \n",
    "#                 \"off_rebounds\" : int, \n",
    "#                 \"personal_fouls\" : int, \n",
    "#                 \"points\" : int, \n",
    "#                 \"steals\" : int,\n",
    "#                 \"three_pt_tries\" : int,\n",
    "#                 \"total_rebounds\" : int, \n",
    "#                 \"turnovers\" : int,\n",
    "#                 \"weight\" : int,\n",
    "#                 \"year\" : int,\n",
    "#                 \"year_end\" : int, \n",
    "#                 \"year_start\" : int,\n",
    "#                } \n",
    "\n",
    "# # turn off column limit so I can see the data in all columns:\n",
    "# pd.options.display.max_columns = None\n",
    "  \n",
    "# final_df = final_df.astype(final_convert) \n",
    "\n",
    "# final_df.head()\n",
    "\n",
    "## Above code gave me the following error:\n",
    "## ValueError: Cannot convert non-finite values (NA or inf) to integer"
   ]
  },
  {
   "cell_type": "markdown",
   "metadata": {},
   "source": [
    "**Looks like before I change all these datatypes to integers, I need to get rid of the NaN values.**\n",
    "\n",
    "- Plan is to throw a 1 into all the NaNs - imputing averages wouldn't make sense, and using '0' would throw off the maths"
   ]
  },
  {
   "cell_type": "code",
   "execution_count": null,
   "metadata": {
    "scrolled": true
   },
   "outputs": [],
   "source": [
    "final_df = final_df.fillna(1)\n",
    "\n",
    "final_df.head(3)"
   ]
  },
  {
   "cell_type": "code",
   "execution_count": null,
   "metadata": {},
   "outputs": [],
   "source": [
    "# check to see if any columns are duplicated\n",
    "final_df.columns.duplicated()"
   ]
  },
  {
   "cell_type": "code",
   "execution_count": null,
   "metadata": {},
   "outputs": [],
   "source": [
    "# Now we can try the lengthy column datatype change code from above:\n",
    "\n",
    "final_convert = {\"2_point_tries\" : int, \n",
    "                \"2_pointers\" : int,\n",
    "                \"3_point_tries\" : int,\n",
    "                \"3_pointers\" : int, \n",
    "                \"age\" : int,\n",
    "                \"assists\" : int, \n",
    "                \"blocks\" : int,\n",
    "                \"born\" : int, \n",
    "                \"def_rebounds\" : int, \n",
    "                \"field_goal_attempts\" : int, \n",
    "                \"field_goals\" : int,\n",
    "                \"free_throws\" : int, \n",
    "                \"free_throw_attempts\" : int, \n",
    "                \"games\" : int, \n",
    "                \"games_started\" : int, \n",
    "                \"height_inches\" : int,\n",
    "                \"minutes_played\" : int, \n",
    "                \"off_rebounds\" : int, \n",
    "                \"personal_fouls\" : int, \n",
    "                \"points\" : int, \n",
    "                \"steals\" : int,\n",
    "                \"three_pt_tries\" : int,\n",
    "                \"total_rebounds\" : int, \n",
    "                \"turnovers\" : int,\n",
    "                \"weight\" : int,\n",
    "                \"year\" : int,\n",
    "                \"year_end\" : int, \n",
    "                \"year_start\" : int,\n",
    "               } \n",
    "# ^^ works, but let me try something else where I don't have to assign anything\n",
    "# to a variable, because I'm getting the following problem\n",
    "\n",
    "# vv try this?\n",
    "# final_df = final_df.astype({\"2_point_tries\" : int, \n",
    "#                 \"2_pointers\" : int,\n",
    "#                 \"3_point_tries\" : int,\n",
    "#                 \"3_pointers\" : int, \n",
    "#                 \"age\" : int,\n",
    "#                 \"assists\" : int, \n",
    "#                 \"blocks\" : int,\n",
    "#                 \"born\" : int, \n",
    "#                 \"def_rebounds\" : int, \n",
    "#                 \"field_goal_attempts\" : int, \n",
    "#                 \"field_goals\" : int,\n",
    "#                 \"free_throws\" : int, \n",
    "#                 \"free_throw_attempts\" : int, \n",
    "#                 \"games\" : int, \n",
    "#                 \"games_started\" : int, \n",
    "#                 \"height_inches\" : int,\n",
    "#                 \"minutes_played\" : int, \n",
    "#                 \"off_rebounds\" : int, \n",
    "#                 \"personal_fouls\" : int, \n",
    "#                 \"points\" : int, \n",
    "#                 \"steals\" : int,\n",
    "#                 \"three_pt_tries\" : int,\n",
    "#                 \"total_rebounds\" : int, \n",
    "#                 \"turnovers\" : int,\n",
    "#                 \"weight\" : int,\n",
    "#                 \"year\" : int,\n",
    "#                 \"year_end\" : int, \n",
    "#                 \"year_start_x\" : int,})\n",
    "\n",
    "final_df.info()"
   ]
  },
  {
   "cell_type": "code",
   "execution_count": null,
   "metadata": {},
   "outputs": [],
   "source": [
    "final_df.head(3)"
   ]
  },
  {
   "cell_type": "code",
   "execution_count": null,
   "metadata": {},
   "outputs": [],
   "source": [
    "# turn off column limit so I can see the data in all columns:\n",
    "pd.options.display.max_columns = None\n",
    "\n",
    "\n",
    "final_df.head()"
   ]
  },
  {
   "cell_type": "markdown",
   "metadata": {},
   "source": [
    "**SUCCESS!!!  DFs merged...**\n",
    "\n",
    "- **After a quick overview, we can see the following:**\n",
    "    \n",
    "    - there are several columns that seem very similar: 'position_x' and 'position_y', 'birth_date' and 'born', and 'year,' 'year_start', and 'year_end'\n",
    "\n",
    "    "
   ]
  },
  {
   "cell_type": "code",
   "execution_count": null,
   "metadata": {},
   "outputs": [],
   "source": [
    "# taking a look at 'position_x' and 'position_y'\n",
    "final_df[[\"position_x\", \"position_y\"]]"
   ]
  },
  {
   "cell_type": "code",
   "execution_count": null,
   "metadata": {},
   "outputs": [],
   "source": [
    "# taking a look at 'birth_date' and 'born'\n",
    "final_df[[\"birth_date\", \"born\"]].head(10)"
   ]
  },
  {
   "cell_type": "code",
   "execution_count": null,
   "metadata": {},
   "outputs": [],
   "source": [
    "# taking a look at 'year,' 'year_start,' and 'year_end'\n",
    "final_df[[\"year\", \"year_start\", \"year_end\"]].head(10)"
   ]
  },
  {
   "cell_type": "code",
   "execution_count": null,
   "metadata": {},
   "outputs": [],
   "source": [
    "# taking a look at '3_point_tries,' 'three_pt_tries'\n",
    "final_df[[\"3_point_tries\", \"three_pt_tries\"]].head(10)"
   ]
  },
  {
   "cell_type": "markdown",
   "metadata": {},
   "source": [
    "**What to do with the information above:**\n",
    "\n",
    "- While similar (and nearly identical), 'position_x' is more specific than 'position_y,' so dropping 'position_y' column from dataframe\n",
    "\n",
    "- Because it is more specific, 'birth_date' will be chosen over 'born'\n",
    "\n",
    "- 'Year' is the season in which the stat took place.  Given that 'year_start' and 'year_end' have no clear information (index 0, for example has 'year_start' as 1949 and 'year_end' as 1951 but is talking about the 1950 season), in an attempt to clear things up, dropping both 'year_start' and 'year_end' because the particular seasons are what we're studying\n",
    "\n",
    "- '3_point_tries' and 'three_pt_tries' are identical columns"
   ]
  },
  {
   "cell_type": "code",
   "execution_count": null,
   "metadata": {},
   "outputs": [],
   "source": [
    "# drop 'position_y', 'born', 'year_start', 'year_end', 'three_pt_tries'\n",
    "final_df = final_df.drop([\"position_y\", \"born\", \"year_start\", \"year_end\", \n",
    "                         \"three_pt_tries\"], axis=1)\n",
    "\n",
    "final_df.columns"
   ]
  },
  {
   "cell_type": "code",
   "execution_count": null,
   "metadata": {},
   "outputs": [],
   "source": [
    "# looks good, but now we need to rename 'position_x' to just 'position'\n",
    "final_df = final_df.rename(columns = {\"position_x\" : \"position\"})\n",
    "\n",
    "final_df.head()"
   ]
  },
  {
   "cell_type": "markdown",
   "metadata": {},
   "source": [
    "**Data looks great, but we need to rearrange those columns**"
   ]
  },
  {
   "cell_type": "code",
   "execution_count": null,
   "metadata": {},
   "outputs": [],
   "source": [
    "# rearranging the columns:\n",
    "final_df = final_df[[\"player\", \"position\", \"age\", \"height_inches\", \"weight\", \"team\", \n",
    "                     \"birth_date\", \"birth_city\", \"birth_state\", \"year\", \"college\", \n",
    "                     \"games\", \"games_started\", \"minutes_played\", \"usage_%\",\n",
    "                     \"points\", \"field_goals\", \"field_goal_attempts\", \n",
    "                     \"field_goal_%\", \"effective_field_goal_%\",\n",
    "                     \"2_point_tries\", \"2_pointers\", \"2_point_%\", \n",
    "                     \"3_point_tries\", \"3_pointers\", \"3_point_%\",\n",
    "                     \"free_throws\", \"free_throw_attempts\", \"free_throw_%\", \n",
    "                     \"true_shooting_%\", \"assists\", \"assist_%\", \n",
    "                     \"blocks\", \"block_%\", \"steals\", \n",
    "                     \"steal_%\", \"total_rebounds\", \"total_rebound_%\", \n",
    "                     \"off_rebounds\", \"off_rebound_%\", \"def_rebounds\", \"def_rebound_%\",\n",
    "                     \"turnovers\", \"turnover_%\", \"offensive_win_shares\",\n",
    "                     \"defensive_win_shares\", \"win_shares\", \"win_shares_per_48min\",\n",
    "                     \"personal_fouls\", \"player_efficiency\", \"off_box_plus_minus\", \n",
    "                     \"def_box_plus_minus\", \"box_plus_minus\", \"value_over_replacement\",\n",
    "                     ]]"
   ]
  },
  {
   "cell_type": "code",
   "execution_count": null,
   "metadata": {},
   "outputs": [],
   "source": [
    "final_df.head(3)"
   ]
  },
  {
   "cell_type": "code",
   "execution_count": null,
   "metadata": {
    "scrolled": true
   },
   "outputs": [],
   "source": [
    "# renaming more columns for clarity\n",
    "final_df = final_df.rename(columns={\n",
    "    \"weight\": \"weight_lbs\", \n",
    "    \"birth_date\" : \"date_of_birth\",\n",
    "    \"year\" : \"season\",\n",
    "    \"points\" : \"total_points\",\n",
    "    \"field_goals\" : \"field_goals_made\",\n",
    "    \"2_pointers\" : \"2_pointers_made\",\n",
    "    \"2_pointers_tries\" : \"2_pointers_made\",\n",
    "    \"3_pointers\" : \"3_pointers_made\",\n",
    "    \"3_point_tries\" : \"3_pointers_tried\",\n",
    "    \"off_plus_minus\" : \"value_on_offense\", \n",
    "    \"def_box_plus_minus\" : \"value_on_defense\",\n",
    "    \"def_box_plus_minus\" : \"total_value\", \n",
    "    \"value_over_replacement\" : \"value_over_bench_sub\"},)\n",
    "\n",
    "final_df.head()"
   ]
  },
  {
   "cell_type": "code",
   "execution_count": null,
   "metadata": {},
   "outputs": [],
   "source": [
    "# setting the df index to 'player' so we can access the info using\n",
    "# the player's name\n",
    "\n",
    "final_df = final_df.set_index(\"player\")\n",
    "\n",
    "final_df.head(3)"
   ]
  },
  {
   "cell_type": "code",
   "execution_count": null,
   "metadata": {
    "scrolled": true
   },
   "outputs": [],
   "source": [
    "final_df.info()"
   ]
  },
  {
   "cell_type": "markdown",
   "metadata": {},
   "source": [
    "**Df's are merged, columns are easy-to-read and understand, and nulls are handled**"
   ]
  },
  {
   "cell_type": "code",
   "execution_count": null,
   "metadata": {},
   "outputs": [],
   "source": [
    "final_df.shape"
   ]
  },
  {
   "cell_type": "code",
   "execution_count": null,
   "metadata": {},
   "outputs": [],
   "source": [
    "seasons_stats_df.shape"
   ]
  },
  {
   "cell_type": "code",
   "execution_count": null,
   "metadata": {},
   "outputs": [],
   "source": [
    "players_df.shape"
   ]
  },
  {
   "cell_type": "code",
   "execution_count": null,
   "metadata": {},
   "outputs": [],
   "source": [
    "player_data_df.shape"
   ]
  },
  {
   "cell_type": "code",
   "execution_count": null,
   "metadata": {},
   "outputs": [],
   "source": []
  },
  {
   "cell_type": "code",
   "execution_count": null,
   "metadata": {},
   "outputs": [],
   "source": [
    "# Add 'birth_city' and 'birth_state' from players_df to final_df\n",
    "\n",
    "# assign column names to variables: \n",
    "# city = players_df[\"birth_city\"]\n",
    "# state = players_df[\"birth_state\"]\n",
    "\n",
    "# merge these columns onto the final_df:\n",
    "# final_df = final_df.join(city, state)\n",
    "# final_df.head()\n",
    "\n",
    "# generated an error stating, basically, I can't do that with these two dfs because\n",
    "# they have different numbers of rows.  Good thing, too, b/c I just realized that \n",
    "# joining everything would not match the birth city and states to the correct players."
   ]
  },
  {
   "cell_type": "code",
   "execution_count": null,
   "metadata": {},
   "outputs": [],
   "source": [
    "# Got some nulls in the last 7 columns.  Taking a look at them:\n",
    "# final_df[final_df.isnull().any(axis=1)]"
   ]
  },
  {
   "cell_type": "code",
   "execution_count": null,
   "metadata": {},
   "outputs": [],
   "source": [
    "# **Deciding what to do with duplicates...**\n",
    "\n",
    "# merging dataframes involving similar data is bound to include duplicates\n",
    "\n",
    "# we can't just drop them because duplicate positions, teams, etc are everywhere\n",
    "\n",
    "# will look for duplicate player names and use the remaining info to decide \n",
    "# whether or not to drop that row"
   ]
  },
  {
   "cell_type": "code",
   "execution_count": null,
   "metadata": {},
   "outputs": [],
   "source": []
  }
 ],
 "metadata": {
  "kernelspec": {
   "display_name": "Python 3",
   "language": "python",
   "name": "python3"
  },
  "language_info": {
   "codemirror_mode": {
    "name": "ipython",
    "version": 3
   },
   "file_extension": ".py",
   "mimetype": "text/x-python",
   "name": "python",
   "nbconvert_exporter": "python",
   "pygments_lexer": "ipython3",
   "version": "3.7.4"
  }
 },
 "nbformat": 4,
 "nbformat_minor": 2
}
